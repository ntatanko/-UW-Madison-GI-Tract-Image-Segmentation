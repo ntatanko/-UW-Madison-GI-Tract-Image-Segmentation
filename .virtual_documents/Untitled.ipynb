import shutil


shutil.rmtree('/app/_data')



