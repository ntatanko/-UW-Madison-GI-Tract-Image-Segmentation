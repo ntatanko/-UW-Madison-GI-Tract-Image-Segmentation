{
 "cells": [
  {
   "cell_type": "code",
   "execution_count": 78,
   "id": "ee27d495-61dc-4161-a53d-b746d6d1a694",
   "metadata": {},
   "outputs": [],
   "source": [
    "import ast\n",
    "import gc\n",
    "import glob\n",
    "import json\n",
    "import os\n",
    "import shutil\n",
    "\n",
    "import cv2\n",
    "import matplotlib.pyplot as plt\n",
    "import numpy as np\n",
    "import pandas as pd\n",
    "import skimage\n",
    "import torch\n",
    "from IPython.core.interactiveshell import InteractiveShell\n",
    "from sklearn.model_selection import GroupKFold, StratifiedGroupKFold\n",
    "from tqdm import tqdm\n",
    "\n",
    "InteractiveShell.ast_node_interactivity = \"all\"\n",
    "import sys\n",
    "from functools import partial\n",
    "\n",
    "sys.path.append(\"/app/_data/MONAI\")\n",
    "import monai\n",
    "from monai import data, transforms\n",
    "from monai.config import print_config\n",
    "from monai.data import NibabelWriter, decollate_batch\n",
    "from monai.inferers import sliding_window_inference\n",
    "from monai.losses import DiceLoss\n",
    "from monai.metrics import DiceMetric\n",
    "from monai.networks.nets import SwinUNETR, UNet\n",
    "from monai.transforms import (\n",
    "    Activations,\n",
    "    AddChanneld,\n",
    "    AsDiscrete,\n",
    "    Compose,\n",
    "    CropForegroundd,\n",
    "    Lambdad,\n",
    "    LoadImaged,\n",
    "    Orientationd,\n",
    "    RandCropByPosNegLabeld,\n",
    "    RandFlipd,\n",
    "    RandRotate90d,\n",
    "    RandShiftIntensityd,\n",
    "    ScaleIntensityRanged,\n",
    "    Spacingd,\n",
    "    ToTensord,\n",
    "    Transposed,\n",
    ")\n",
    "from monai.utils.enums import MetricReduction"
   ]
  },
  {
   "cell_type": "code",
   "execution_count": 2,
   "id": "91f6b858-89a0-42ad-8c51-9eeec2ebd645",
   "metadata": {},
   "outputs": [],
   "source": [
    "df = pd.read_csv(\"/app/_data/folds.csv\")\n",
    "\n",
    "wrong1 = \"case7_day0\"\n",
    "wrong2 = \"case81_day30\"\n",
    "df = df[~df[\"id\"].str.contains(wrong1) & ~df[\"id\"].str.contains(wrong2)].reset_index(\n",
    "    drop=True\n",
    ")"
   ]
  },
  {
   "cell_type": "code",
   "execution_count": 3,
   "id": "205edca2-e416-421a-91e9-d2929c275c9e",
   "metadata": {},
   "outputs": [],
   "source": [
    "df = df.sort_values(\"id\").reset_index(drop=True)"
   ]
  },
  {
   "cell_type": "code",
   "execution_count": 4,
   "id": "1ddc4365-596b-4303-9023-2c44c485428e",
   "metadata": {},
   "outputs": [],
   "source": [
    "FOLD = 1\n",
    "train_data, val_data = [], []\n",
    "for case_day, group_df in df[df[\"fold\"] != FOLD].groupby([\"case\", \"day\"]):\n",
    "    group_df = group_df.reset_index(drop=True)\n",
    "    imgs, labels = [], []\n",
    "    for ix in group_df.index:\n",
    "        imgs.append(group_df.loc[ix, \"img_npy\"])\n",
    "        labels.append(group_df.loc[ix, \"mask_npy\"])\n",
    "    train_data.append({\"image\": imgs, \"label\": labels})\n",
    "for case_day, group_df in df[df[\"fold\"] == FOLD].groupby([\"case\", \"day\"]):\n",
    "    group_df = group_df.reset_index(drop=True)\n",
    "    imgs, labels = [], []\n",
    "    for ix in group_df.index:\n",
    "        imgs.append(group_df.loc[ix, \"img_npy\"])\n",
    "        labels.append(group_df.loc[ix, \"mask_npy\"])\n",
    "    val_data.append({\"image\": imgs, \"label\": labels})"
   ]
  },
  {
   "cell_type": "code",
   "execution_count": 5,
   "id": "a358aae5-74a8-4579-911b-cb4ae8f98ae6",
   "metadata": {},
   "outputs": [],
   "source": [
    "IMG_SIZE = (384, 384, 144)\n",
    "BATCH_SIZE = 2"
   ]
  },
  {
   "cell_type": "code",
   "execution_count": 6,
   "id": "bbf11af6-af33-4687-8cc0-3180220600e4",
   "metadata": {},
   "outputs": [],
   "source": [
    "# for transform shape must be c, h, w, d\n",
    "h, w, d = IMG_SIZE\n",
    "train_transforms = monai.transforms.Compose(\n",
    "    [\n",
    "        monai.transforms.LoadImaged(\n",
    "            keys=[\"image\", \"label\"]\n",
    "        ),  # d, h, w for img and d, h, w, c for label\n",
    "        monai.transforms.Transposed(\n",
    "            keys=\"label\", indices=[3, 1, 2, 0]\n",
    "        ),  # d, h, w, c to c, h, w, d\n",
    "        monai.transforms.AddChanneld(keys=\"image\"),  # d, h, w to c, d, h, w\n",
    "        monai.transforms.Transposed(\n",
    "            keys=\"image\", indices=[0, 2, 3, 1]\n",
    "        ),  # c, d, h, w to c, h, w, d\n",
    "        monai.transforms.SpatialPadd(\n",
    "            keys=[\"image\", \"label\"], spatial_size=(h, w, -1)\n",
    "        ),  # simmetric pad to (c, h, w, d)\n",
    "        monai.transforms.SpatialPadd(\n",
    "            keys=[\"image\", \"label\"], spatial_size=(-1, -1, d), method=\"end\"\n",
    "        ),  # pad with zero images and masks if depth less then 144 at the end\n",
    "        monai.transforms.RandFlipd(\n",
    "            keys=[\"image\", \"label\"],\n",
    "            spatial_axis=[0],\n",
    "            prob=0.10,\n",
    "        ),\n",
    "        monai.transforms.RandFlipd(\n",
    "            keys=[\"image\", \"label\"],\n",
    "            spatial_axis=[1],\n",
    "            prob=0.10,\n",
    "        ),\n",
    "        monai.transforms.RandFlipd(\n",
    "            keys=[\"image\", \"label\"],\n",
    "            spatial_axis=[2],\n",
    "            prob=0.10,\n",
    "        ),\n",
    "        monai.transforms.RandRotate90d(\n",
    "            keys=[\"image\", \"label\"],\n",
    "            prob=0.10,\n",
    "            max_k=3,\n",
    "        ),\n",
    "        monai.transforms.RandShiftIntensityd(\n",
    "            keys=[\"image\"],\n",
    "            offsets=0.10,\n",
    "            prob=0.50,\n",
    "        ),\n",
    "        monai.transforms.OneOf(\n",
    "            [\n",
    "                monai.transforms.RandGridDistortiond(\n",
    "                    keys=[\"image\", \"label\"],\n",
    "                    prob=0.5,\n",
    "                    distort_limit=(-0.05, 0.05),\n",
    "                    mode=\"nearest\",\n",
    "                    padding_mode=\"zeros\",\n",
    "                ),\n",
    "                monai.transforms.RandAffined(\n",
    "                    keys=[\"image\", \"label\"],\n",
    "                    prob=0.5,\n",
    "                    rotate_range=np.pi / 12,\n",
    "                    translate_range=(h * 0.0625, h * 0.0625),\n",
    "                    scale_range=(0.1, 0.1),\n",
    "                    mode=\"nearest\",\n",
    "                    padding_mode=\"zeros\",\n",
    "                ),\n",
    "            ],\n",
    "        ),\n",
    "        monai.transforms.Lambdad(\n",
    "            keys=\"image\", func=lambda x: x / x.max()\n",
    "        ),  # normalize to [0, 1] range\n",
    "        monai.transforms.EnsureTyped(keys=[\"image\", \"label\"], dtype=torch.float32),\n",
    "    ]\n",
    ")\n",
    "\n",
    "val_transforms = monai.transforms.Compose(\n",
    "    [\n",
    "        monai.transforms.LoadImaged(\n",
    "            keys=[\"image\", \"label\"]\n",
    "        ),  # d, h, w for img and d, h, w, c for label\n",
    "        monai.transforms.Transposed(\n",
    "            keys=\"label\", indices=[3, 1, 2, 0]\n",
    "        ),  # d, h, w, c to c, h, w, d\n",
    "        monai.transforms.AddChanneld(keys=\"image\"),  # d, h, w to c, d, h, w\n",
    "        monai.transforms.Transposed(\n",
    "            keys=\"image\", indices=[0, 2, 3, 1]\n",
    "        ),  # c, d, h, w to c, h, w, d\n",
    "        monai.transforms.SpatialPadd(\n",
    "            keys=[\"image\", \"label\"], spatial_size=(h, w, -1)\n",
    "        ),  # simmetric pad to (c, 384, 384, d)\n",
    "        monai.transforms.SpatialPadd(\n",
    "            keys=[\"image\", \"label\"], spatial_size=(-1, -1, d), method=\"end\"\n",
    "        ),  # pad with zero images and masks if depth less then 144 at the end\n",
    "        monai.transforms.Lambdad(\n",
    "            keys=\"image\", func=lambda x: x / x.max()\n",
    "        ),  # normalize to [0, 1] range\n",
    "        monai.transforms.EnsureTyped(keys=[\"image\", \"label\"], dtype=torch.float32),\n",
    "    ]\n",
    ")"
   ]
  },
  {
   "cell_type": "code",
   "execution_count": 7,
   "id": "b3ce259d-899a-46a5-a723-e2dfd86ca962",
   "metadata": {},
   "outputs": [
    {
     "name": "stderr",
     "output_type": "stream",
     "text": [
      "Loading dataset: 100% 8/8 [00:03<00:00,  2.56it/s]\n",
      "Loading dataset: 100% 8/8 [00:02<00:00,  2.68it/s]\n"
     ]
    }
   ],
   "source": [
    "train_ds = data.CacheDataset(\n",
    "    data=train_data,\n",
    "    transform=train_transforms,\n",
    "    cache_num=8,\n",
    "    cache_rate=1.0,\n",
    "    num_workers=0,\n",
    ")\n",
    "val_ds = data.CacheDataset(\n",
    "    data=val_data,\n",
    "    transform=val_transforms,\n",
    "    cache_num=8,\n",
    "    cache_rate=1.0,\n",
    "    num_workers=0,\n",
    ")"
   ]
  },
  {
   "cell_type": "code",
   "execution_count": 8,
   "id": "626711a1-eb53-4519-ab9e-ebec2bf54a6f",
   "metadata": {},
   "outputs": [
    {
     "data": {
      "image/png": "[encoded data removed]",
      "text/plain": [
       "<Figure size 432x288 with 1 Axes>"
      ]
     },
     "metadata": {
      "image/png": {
       "height": 251,
       "width": 258
      },
      "needs_background": "light"
     },
     "output_type": "display_data"
    }
   ],
   "source": [
    "ix = 2\n",
    "img = train_ds[ix]\n",
    "i = 49\n",
    "plt.imshow(img[\"image\"].numpy()[0, :, :, i])\n",
    "plt.imshow(img[\"label\"].numpy()[:, :, :, i].transpose(1, 2, 0), alpha=0.3)\n",
    "plt.show();"
   ]
  },
  {
   "cell_type": "code",
   "execution_count": 9,
   "id": "6e97522a-4b1d-4585-9b9a-ecb9f8e48982",
   "metadata": {},
   "outputs": [],
   "source": [
    "train_loader = monai.data.DataLoader(\n",
    "    train_ds, batch_size=BATCH_SIZE, shuffle=True, num_workers=0, pin_memory=True\n",
    ")\n",
    "val_loader = monai.data.DataLoader(\n",
    "    val_ds, batch_size=BATCH_SIZE, shuffle=False, num_workers=0, pin_memory=True\n",
    ")"
   ]
  },
  {
   "cell_type": "markdown",
   "id": "b3daf7d8-0681-4c8f-bce9-d297d931e1c3",
   "metadata": {},
   "source": [
    "## model"
   ]
  },
  {
   "cell_type": "code",
   "execution_count": 10,
   "id": "74003604-f3a9-4d58-a8fc-019be7a314d6",
   "metadata": {},
   "outputs": [],
   "source": [
    "os.environ[\"CUDA_DEVICE_ORDER\"] = \"PCI_BUS_ID\"\n",
    "device = torch.device(\"cuda\" if torch.cuda.is_available() else \"cpu\")"
   ]
  },
  {
   "cell_type": "code",
   "execution_count": 11,
   "id": "a07304f8-b5ea-4c4c-9c39-e321143a018e",
   "metadata": {},
   "outputs": [],
   "source": [
    "# model = monai.networks.nets.SwinUNETR(\n",
    "#     img_size=IMG_SIZE,\n",
    "#     in_channels=1,\n",
    "#     out_channels=3,\n",
    "#     depths=(2, 2, 2, 2),\n",
    "#     num_heads=(3, 6, 12, 24),\n",
    "#     feature_size=24,\n",
    "#     norm_name=\"instance\",\n",
    "#     drop_rate=0.05,\n",
    "#     attn_drop_rate=0.05,\n",
    "#     dropout_path_rate=0.0,\n",
    "#     normalize=True,\n",
    "#     use_checkpoint=True,\n",
    "#     spatial_dims=3,\n",
    "# ).to(device)"
   ]
  },
  {
   "cell_type": "code",
   "execution_count": 12,
   "id": "65e47a12-4055-495c-a8d9-7ec2ba2293cb",
   "metadata": {},
   "outputs": [],
   "source": [
    "model = UNet(\n",
    "    spatial_dims=3,\n",
    "    in_channels=1,\n",
    "    out_channels=3,\n",
    "    channels=(32, 64, 128, 256, 512),\n",
    "    strides=(2, 2, 2, 2),\n",
    "    kernel_size=3,\n",
    "    up_kernel_size=3,\n",
    "    num_res_units=2,\n",
    "    act=\"PRELU\",\n",
    "    norm=\"INSTANCE\",\n",
    "    dropout=0.1,\n",
    "    bias=True,\n",
    "    dimensions=None,\n",
    ").to(device)\n",
    "\n",
    "loss_function = monai.losses.DiceLoss(\n",
    "    sigmoid=True,\n",
    "    smooth_nr=0.01,\n",
    "    smooth_dr=0.01,\n",
    "    include_background=True,\n",
    "    batch=True,\n",
    "    squared_pred=True,\n",
    ")\n",
    "torch.backends.cudnn.benchmark = True\n",
    "optimizer = torch.optim.AdamW(model.parameters(), lr=1e-3, weight_decay=1e-5)"
   ]
  },
  {
   "cell_type": "code",
   "execution_count": 13,
   "id": "47436e0f-a947-4aaf-a342-63b31ef277f3",
   "metadata": {},
   "outputs": [],
   "source": [
    "def create_checkpoint(model, optimizer, epoch, scheduler=None, scaler=None):\n",
    "    checkpoint = {\n",
    "        \"model\": model.state_dict(),\n",
    "        \"optimizer\": optimizer.state_dict(),\n",
    "        \"epoch\": epoch,\n",
    "    }\n",
    "\n",
    "    if scheduler is not None:\n",
    "        checkpoint[\"scheduler\"] = scheduler.state_dict()\n",
    "\n",
    "    if scaler is not None:\n",
    "        checkpoint[\"scaler\"] = scaler.state_dict()\n",
    "    return checkpoint"
   ]
  },
  {
   "cell_type": "code",
   "execution_count": 14,
   "id": "2f7aeed3-a673-4980-a68c-c2e8f76d2608",
   "metadata": {},
   "outputs": [],
   "source": [
    "scheduler = torch.optim.lr_scheduler.CosineAnnealingLR(\n",
    "    optimizer,\n",
    "    T_max=10000,\n",
    "    eta_min=0.00001,\n",
    ")\n",
    "dice_metric = monai.metrics.DiceMetric(\n",
    "    include_background=False, reduction=\"mean\", ignore_empty=False\n",
    ")"
   ]
  },
  {
   "cell_type": "code",
   "execution_count": 19,
   "id": "05ea4971-b58b-4be3-8e8e-e4c9d274f349",
   "metadata": {},
   "outputs": [],
   "source": [
    "def validate(model, val_loader, device, epoch, img_size):\n",
    "    model.eval()\n",
    "    val_bar = tqdm(\n",
    "        enumerate(val_loader),\n",
    "        total=len(val_loader),\n",
    "        desc=f\"Val:   epoch #{epoch + 1}\",\n",
    "    )\n",
    "    with torch.no_grad():\n",
    "        for step, batch in val_bar:\n",
    "            val_inputs, val_labels = batch[\"image\"].to(device), batch[\"label\"].to(\n",
    "                device\n",
    "            )\n",
    "            val_outputs = sliding_window_inference(val_inputs, img_size, 4, model)\n",
    "            val_labels_list = decollate_batch(val_labels)\n",
    "            val_labels_convert = [\n",
    "                post_label(val_label_tensor) for val_label_tensor in val_labels_list\n",
    "            ]\n",
    "            val_outputs_list = decollate_batch(val_outputs)\n",
    "            val_output_convert = [\n",
    "                post_pred(val_pred_tensor) for val_pred_tensor in val_outputs_list\n",
    "            ]\n",
    "            dice_metric(y_pred=val_output_convert, y=val_labels_convert)\n",
    "        mean_dice_val = dice_metric.aggregate().item()\n",
    "        dice_metric.reset()\n",
    "        val_bar.set_postfix(\n",
    "            dice=f\"{dice_metric:0.4f}\",\n",
    "        )\n",
    "    return mean_dice_val"
   ]
  },
  {
   "cell_type": "code",
   "execution_count": 16,
   "id": "27f01a62-bba8-45d8-a1e7-07d471231213",
   "metadata": {},
   "outputs": [],
   "source": [
    "def train(model, train_loader, optimizer, scheduler, device, loss_fn, n_epoch, path):\n",
    "    train_losses, val_dices = [], []\n",
    "    best_dice = 0\n",
    "    best_epoch = 0\n",
    "    scores = {\"dice\": [], \"hd\": [], \"mean_score\": []}\n",
    "    for epoch in range(n_epoch):\n",
    "        epoch_loss = train_one_epoch(\n",
    "            model, train_loader, optimizer, scheduler, device, loss_fn, epoch\n",
    "        )\n",
    "        torch.save(model.state_dict(), os.path.join(path, \"last.pth\"))\n",
    "\n",
    "        if epoch % 2 == 0:\n",
    "            mean_val_dice = validate(model, val_loader, device, epoch, img_size)\n",
    "            val_dices.append([epoch, mean_val_dice])\n",
    "            if mean_dice_val > best_dice:\n",
    "                best_epoch = epoch\n",
    "                torch.save(model.state_dict(), os.path.join(path, \"best_dice.pth\"))\n",
    "                print(\n",
    "                    f\"Dice improved from {best_dice:0.4f} to {mean_dice_val:0.4f}, model was saved at {os.path.join(path, 'best_dice.pth')}\"\n",
    "                )\n",
    "                best_dice = mean_dice_val\n",
    "        torch.save(model.state_dict(), os.path.join(path, \"last.pth\"))\n",
    "        return"
   ]
  },
  {
   "cell_type": "code",
   "execution_count": 18,
   "id": "c66865cb-307c-4347-a88e-c31adea22a79",
   "metadata": {},
   "outputs": [],
   "source": [
    "def train_one_epoch(model, train_loader, optimizer, scheduler, device, loss_fn, epoch):\n",
    "    model.train()\n",
    "    running_loss = 0\n",
    "    train_bar = tqdm(\n",
    "        enumerate(train_loader),\n",
    "        total=len(train_loader),\n",
    "        desc=f\"Train: epoch #{epoch + 1}\",\n",
    "        dynamic_ncols=True,\n",
    "    )\n",
    "    for step, batch in train_bar:\n",
    "        step += 1\n",
    "        optimizer.zero_grad()\n",
    "        x, y = batch[\"image\"].to(device), batch[\"label\"].to(device)\n",
    "        logits = model(x)\n",
    "        loss = loss_fn(logits, y)\n",
    "        loss.backward()\n",
    "        optimizer.step()\n",
    "        running_loss += loss.item()\n",
    "        current_lr = optimizer.param_groups[0][\"lr\"]\n",
    "        memory = torch.cuda.memory_reserved() / 1e9 if torch.cuda.is_available() else 0\n",
    "        train_bar.set_postfix(\n",
    "            train_loss=f\"{running_loss/step:0.4f}\",\n",
    "            lr=f\"{current_lr:0.6f}\",\n",
    "            gpu_memory=f\"{memory:0.2f} GB\",\n",
    "        )\n",
    "    scheduler.step()\n",
    "    return running_loss / step"
   ]
  },
  {
   "cell_type": "code",
   "execution_count": 91,
   "id": "62d48972-a871-44ee-8dc6-93d679d2d53e",
   "metadata": {},
   "outputs": [
    {
     "name": "stderr",
     "output_type": "stream",
     "text": [
      "Train: step #1: 100% 115/115 [07:44<00:00,  4.04s/it, gpu_memory=18.96 GB, lr=0.001000, train_loss=0.9192]\n"
     ]
    }
   ],
   "source": [
    "model = model.train()\n",
    "running_loss = 0\n",
    "step = 0\n",
    "best_dice = 0\n",
    "global_step_best = 0\n",
    "train_bar = tqdm(\n",
    "    enumerate(train_loader),\n",
    "    total=len(train_loader),\n",
    "    desc=f\"Train: step #{step + 1}\",\n",
    "    dynamic_ncols=True,\n",
    ")\n",
    "for step, batch in train_bar:\n",
    "    step += 1\n",
    "    optimizer.zero_grad()\n",
    "    x, y = batch[\"image\"].to(device), batch[\"label\"].to(device)\n",
    "    logits = model(x)\n",
    "    loss = loss_function(logits, y)\n",
    "    running_loss += loss.item()\n",
    "    loss.backward()\n",
    "    optimizer.step()\n",
    "\n",
    "    if running_loss != running_loss:\n",
    "        break\n",
    "    current_lr = optimizer.param_groups[0][\"lr\"]\n",
    "    memory = torch.cuda.memory_reserved() / 1e9 if torch.cuda.is_available() else 0\n",
    "    train_bar.set_postfix(\n",
    "        train_loss=f\"{running_loss/step:0.4f}\",\n",
    "        lr=f\"{current_lr:0.6f}\",\n",
    "        gpu_memory=f\"{memory:0.2f} GB\",\n",
    "    )\n",
    "    torch.cuda.empty_cache()"
   ]
  },
  {
   "cell_type": "code",
   "execution_count": 30,
   "id": "5d16ee6a-8c5c-4c08-a634-e834f6add660",
   "metadata": {},
   "outputs": [],
   "source": [
    "def validate(model, val_loader, device, epoch, img_size):\n",
    "    model.eval()\n",
    "    val_bar = tqdm(\n",
    "        enumerate(val_loader),\n",
    "        total=len(val_loader),\n",
    "        desc=f\"Val:   epoch #{epoch + 1}\",\n",
    "    )\n",
    "    with torch.no_grad():\n",
    "        for step, batch in val_bar:\n",
    "            val_inputs, val_labels = batch[\"image\"].to(device), batch[\"label\"].to(\n",
    "                device\n",
    "            )\n",
    "            val_outputs = sliding_window_inference(val_inputs, img_size, 4, model)\n",
    "            val_labels_list = decollate_batch(val_labels)\n",
    "            val_labels_convert = [\n",
    "                post_label(val_label_tensor) for val_label_tensor in val_labels_list\n",
    "            ]\n",
    "            val_outputs_list = decollate_batch(val_outputs)\n",
    "            val_output_convert = [\n",
    "                post_pred(val_pred_tensor) for val_pred_tensor in val_outputs_list\n",
    "            ]\n",
    "            dice_metric(y_pred=val_output_convert, y=val_labels_convert)\n",
    "        mean_dice_val = dice_metric.aggregate().item()\n",
    "        dice_metric.reset()\n",
    "        val_bar.set_postfix(\n",
    "            dice=f\"{dice_metric:0.4f}\",\n",
    "        )\n",
    "    return mean_dice_val"
   ]
  },
  {
   "cell_type": "code",
   "execution_count": 84,
   "id": "bdbc044f-c9ce-4de8-b366-4145088fe359",
   "metadata": {},
   "outputs": [],
   "source": [
    "def validate(model, val_loader, device, epoch, img_size):\n",
    "    post_pred = Compose(\n",
    "        [\n",
    "            Activations(sigmoid=True),\n",
    "            AsDiscrete(threshold=0.5),\n",
    "        ]\n",
    "    )\n",
    "    dice = 0\n",
    "    hd = 0\n",
    "    weightad_score = 0\n",
    "    model.eval()\n",
    "\n",
    "    val_bar = tqdm(\n",
    "        enumerate(val_loader),\n",
    "        total=len(val_loader),\n",
    "        desc=f\"Val:   epoch #{epoch + 1}\",\n",
    "    )\n",
    "\n",
    "    for step, batch in val_bar:\n",
    "        val_inputs, val_labels = batch[\"image\"].to(device), batch[\"label\"].to(device)\n",
    "        with torch.no_grad():\n",
    "            val_outputs = sliding_window_inference(val_inputs, img_size, 4, model)\n",
    "        val_outputs = [post_pred(i) for i in val_outputs]\n",
    "        val_outputs = torch.stack(val_outputs)\n",
    "        # metric is slice level put (n, c, h, w, d) to (n, d, c, h, w) to (n*d, c, h, w)\n",
    "        val_outputs = val_outputs.permute([0, 4, 1, 2, 3]).flatten(0, 1)\n",
    "        val_labels = val_labels.permute([0, 4, 1, 2, 3]).flatten(0, 1)\n",
    "        hausdorff_metric(y_pred=val_outputs, y=val_labels)\n",
    "        dice_metric(y_pred=val_outputs, y=val_labels)\n",
    "        del val_outputs, val_inputs, val_labels, batch\n",
    "    dice_score = dice_metric.aggregate().item()\n",
    "    hausdorff_score = hausdorff_metric.aggregate().item()\n",
    "    dice_metric.reset()\n",
    "    hausdorff_metric.reset()\n",
    "    all_score = dice_score * 0.4 + hausdorff_score * 0.6\n",
    "    print(\n",
    "        f\"dice_score: {dice_score} hausdorff_score: {hausdorff_score} all_score: {all_score}\"\n",
    "    )\n",
    "    torch.cuda.empty_cache()\n",
    "    gc.collect()\n",
    "    return dice_score, hausdorff_score, all_score"
   ]
  },
  {
   "cell_type": "code",
   "execution_count": 92,
   "id": "3a9ec049-d463-466c-b1b8-4de9be6b671b",
   "metadata": {},
   "outputs": [
    {
     "name": "stderr",
     "output_type": "stream",
     "text": [
      "Val:   epoch #2: 100% 21/21 [01:06<00:00,  3.17s/it]\n"
     ]
    },
    {
     "name": "stdout",
     "output_type": "stream",
     "text": [
      "dice_score: 0.19450975954532623 hausdorff_score: 0.5551554125990619 all_score: 0.4108971513775676\n"
     ]
    }
   ],
   "source": [
    "dice_score, hausdorff_score, all_score = validate(model, val_loader, device, 1, img_size = (384,384,144))"
   ]
  },
  {
   "cell_type": "code",
   "execution_count": 93,
   "id": "4320cf12-0cc2-46fb-beca-705d0159ce09",
   "metadata": {},
   "outputs": [
    {
     "data": {
      "text/plain": [
       "(0.19450975954532623, 0.5551554125990619, 0.4108971513775676)"
      ]
     },
     "execution_count": 93,
     "metadata": {},
     "output_type": "execute_result"
    }
   ],
   "source": [
    "dice_score, hausdorff_score, all_score "
   ]
  },
  {
   "cell_type": "code",
   "execution_count": null,
   "id": "e25bcd52-5ace-4495-8418-40e1bbdcbb6c",
   "metadata": {},
   "outputs": [],
   "source": []
  },
  {
   "cell_type": "code",
   "execution_count": 57,
   "id": "d5ec401d-9320-49b5-b5db-d7cdcc8633fc",
   "metadata": {},
   "outputs": [],
   "source": [
    "post_pred = Compose(\n",
    "    [\n",
    "        Activations(sigmoid=True),\n",
    "        AsDiscrete(threshold=0.5),\n",
    "    ]\n",
    ")"
   ]
  },
  {
   "cell_type": "code",
   "execution_count": 88,
   "id": "ef8d0388-365d-48c6-96ae-9de54871b00a",
   "metadata": {
    "collapsed": true,
    "jupyter": {
     "outputs_hidden": true
    },
    "tags": []
   },
   "outputs": [
    {
     "name": "stderr",
     "output_type": "stream",
     "text": [
      "Val:   epoch #1:   0% 0/21 [00:00<?, ?it/s]"
     ]
    },
    {
     "data": {
      "text/plain": [
       "tensor([[0.0720, 0.0494, 0.0699],\n",
       "        [0.1270, 0.1024, 0.0543]], device='cuda:0')\n",
       "MetaData\n",
       "\taffine: tensor([[1., 0., 0., 0.],\n",
       "        [0., 1., 0., 0.],\n",
       "        [0., 0., 1., 0.],\n",
       "        [0., 0., 0., 1.]], device='cuda:0', dtype=torch.float64)\n",
       "\n",
       "Applied operations\n",
       "[]\n",
       "Is batch?: False"
      ]
     },
     "execution_count": 88,
     "metadata": {},
     "output_type": "execute_result"
    },
    {
     "name": "stderr",
     "output_type": "stream",
     "text": [
      "Val:   epoch #1:   5% 1/21 [00:00<00:10,  1.97it/s]"
     ]
    },
    {
     "data": {
      "text/plain": [
       "tensor([[0.1172, 0.1033, 0.0386],\n",
       "        [0.0734, 0.0817, 0.0710]], device='cuda:0')\n",
       "MetaData\n",
       "\taffine: tensor([[1., 0., 0., 0.],\n",
       "        [0., 1., 0., 0.],\n",
       "        [0., 0., 1., 0.],\n",
       "        [0., 0., 0., 1.]], device='cuda:0', dtype=torch.float64)\n",
       "\n",
       "Applied operations\n",
       "[]\n",
       "Is batch?: False"
      ]
     },
     "execution_count": 88,
     "metadata": {},
     "output_type": "execute_result"
    },
    {
     "name": "stderr",
     "output_type": "stream",
     "text": [
      "Val:   epoch #1:  10% 2/21 [00:00<00:09,  2.02it/s]"
     ]
    },
    {
     "data": {
      "text/plain": [
       "tensor([[0.0555, 0.0953, 0.0446],\n",
       "        [0.0503, 0.0645, 0.0490]], device='cuda:0')\n",
       "MetaData\n",
       "\taffine: tensor([[1., 0., 0., 0.],\n",
       "        [0., 1., 0., 0.],\n",
       "        [0., 0., 1., 0.],\n",
       "        [0., 0., 0., 1.]], device='cuda:0', dtype=torch.float64)\n",
       "\n",
       "Applied operations\n",
       "[]\n",
       "Is batch?: False"
      ]
     },
     "execution_count": 88,
     "metadata": {},
     "output_type": "execute_result"
    },
    {
     "name": "stderr",
     "output_type": "stream",
     "text": [
      "Val:   epoch #1:  14% 3/21 [00:01<00:08,  2.05it/s]"
     ]
    },
    {
     "data": {
      "text/plain": [
       "tensor([[0.0407, 0.0864, 0.0570],\n",
       "        [0.1565, 0.1465, 0.0443]], device='cuda:0')\n",
       "MetaData\n",
       "\taffine: tensor([[1., 0., 0., 0.],\n",
       "        [0., 1., 0., 0.],\n",
       "        [0., 0., 1., 0.],\n",
       "        [0., 0., 0., 1.]], device='cuda:0', dtype=torch.float64)\n",
       "\n",
       "Applied operations\n",
       "[]\n",
       "Is batch?: False"
      ]
     },
     "execution_count": 88,
     "metadata": {},
     "output_type": "execute_result"
    },
    {
     "name": "stderr",
     "output_type": "stream",
     "text": [
      "Val:   epoch #1:  19% 4/21 [00:01<00:08,  2.08it/s]"
     ]
    },
    {
     "data": {
      "text/plain": [
       "tensor([[0.1409, 0.1112, 0.0390],\n",
       "        [0.1222, 0.0871, 0.0619]], device='cuda:0')\n",
       "MetaData\n",
       "\taffine: tensor([[1., 0., 0., 0.],\n",
       "        [0., 1., 0., 0.],\n",
       "        [0., 0., 1., 0.],\n",
       "        [0., 0., 0., 1.]], device='cuda:0', dtype=torch.float64)\n",
       "\n",
       "Applied operations\n",
       "[]\n",
       "Is batch?: False"
      ]
     },
     "execution_count": 88,
     "metadata": {},
     "output_type": "execute_result"
    },
    {
     "name": "stderr",
     "output_type": "stream",
     "text": [
      "Val:   epoch #1:  24% 5/21 [00:03<00:12,  1.29it/s]"
     ]
    },
    {
     "data": {
      "text/plain": [
       "tensor([[0.1082, 0.1995, 0.1014],\n",
       "        [0.0859, 0.2011, 0.0564]], device='cuda:0')\n",
       "MetaData\n",
       "\taffine: tensor([[1., 0., 0., 0.],\n",
       "        [0., 1., 0., 0.],\n",
       "        [0., 0., 1., 0.],\n",
       "        [0., 0., 0., 1.]], device='cuda:0', dtype=torch.float64)\n",
       "\n",
       "Applied operations\n",
       "[]\n",
       "Is batch?: False"
      ]
     },
     "execution_count": 88,
     "metadata": {},
     "output_type": "execute_result"
    },
    {
     "name": "stderr",
     "output_type": "stream",
     "text": [
      "Val:   epoch #1:  29% 6/21 [00:04<00:14,  1.05it/s]"
     ]
    },
    {
     "data": {
      "text/plain": [
       "tensor([[0.0853, 0.0932, 0.0534],\n",
       "        [0.1061, 0.1009, 0.0534]], device='cuda:0')\n",
       "MetaData\n",
       "\taffine: tensor([[1., 0., 0., 0.],\n",
       "        [0., 1., 0., 0.],\n",
       "        [0., 0., 1., 0.],\n",
       "        [0., 0., 0., 1.]], device='cuda:0', dtype=torch.float64)\n",
       "\n",
       "Applied operations\n",
       "[]\n",
       "Is batch?: False"
      ]
     },
     "execution_count": 88,
     "metadata": {},
     "output_type": "execute_result"
    },
    {
     "name": "stderr",
     "output_type": "stream",
     "text": [
      "Val:   epoch #1:  33% 7/21 [00:05<00:14,  1.07s/it]"
     ]
    },
    {
     "data": {
      "text/plain": [
       "tensor([[0.0695, 0.0915, 0.0539],\n",
       "        [0.0368, 0.0679, 0.0470]], device='cuda:0')\n",
       "MetaData\n",
       "\taffine: tensor([[1., 0., 0., 0.],\n",
       "        [0., 1., 0., 0.],\n",
       "        [0., 0., 1., 0.],\n",
       "        [0., 0., 0., 1.]], device='cuda:0', dtype=torch.float64)\n",
       "\n",
       "Applied operations\n",
       "[]\n",
       "Is batch?: False"
      ]
     },
     "execution_count": 88,
     "metadata": {},
     "output_type": "execute_result"
    },
    {
     "name": "stderr",
     "output_type": "stream",
     "text": [
      "Val:   epoch #1:  38% 8/21 [00:07<00:14,  1.14s/it]"
     ]
    },
    {
     "data": {
      "text/plain": [
       "tensor([[0.0260, 0.0244, 0.0390],\n",
       "        [0.0120, 0.0386, 0.0429]], device='cuda:0')\n",
       "MetaData\n",
       "\taffine: tensor([[1., 0., 0., 0.],\n",
       "        [0., 1., 0., 0.],\n",
       "        [0., 0., 1., 0.],\n",
       "        [0., 0., 0., 1.]], device='cuda:0', dtype=torch.float64)\n",
       "\n",
       "Applied operations\n",
       "[]\n",
       "Is batch?: False"
      ]
     },
     "execution_count": 88,
     "metadata": {},
     "output_type": "execute_result"
    },
    {
     "name": "stderr",
     "output_type": "stream",
     "text": [
      "Val:   epoch #1:  43% 9/21 [00:08<00:13,  1.12s/it]"
     ]
    },
    {
     "data": {
      "text/plain": [
       "tensor([[0.0079, 0.0348, 0.0388],\n",
       "        [0.0200, 0.0133, 0.0272]], device='cuda:0')\n",
       "MetaData\n",
       "\taffine: tensor([[1., 0., 0., 0.],\n",
       "        [0., 1., 0., 0.],\n",
       "        [0., 0., 1., 0.],\n",
       "        [0., 0., 0., 1.]], device='cuda:0', dtype=torch.float64)\n",
       "\n",
       "Applied operations\n",
       "[]\n",
       "Is batch?: False"
      ]
     },
     "execution_count": 88,
     "metadata": {},
     "output_type": "execute_result"
    },
    {
     "name": "stderr",
     "output_type": "stream",
     "text": [
      "Val:   epoch #1:  48% 10/21 [00:09<00:12,  1.10s/it]"
     ]
    },
    {
     "data": {
      "text/plain": [
       "tensor([[0.0456, 0.0686, 0.0460],\n",
       "        [0.0479, 0.0669, 0.0454]], device='cuda:0')\n",
       "MetaData\n",
       "\taffine: tensor([[1., 0., 0., 0.],\n",
       "        [0., 1., 0., 0.],\n",
       "        [0., 0., 1., 0.],\n",
       "        [0., 0., 0., 1.]], device='cuda:0', dtype=torch.float64)\n",
       "\n",
       "Applied operations\n",
       "[]\n",
       "Is batch?: False"
      ]
     },
     "execution_count": 88,
     "metadata": {},
     "output_type": "execute_result"
    },
    {
     "name": "stderr",
     "output_type": "stream",
     "text": [
      "Val:   epoch #1:  52% 11/21 [00:10<00:11,  1.16s/it]"
     ]
    },
    {
     "data": {
      "text/plain": [
       "tensor([[0.0408, 0.0450, 0.0415],\n",
       "        [0.0585, 0.0645, 0.0223]], device='cuda:0')\n",
       "MetaData\n",
       "\taffine: tensor([[1., 0., 0., 0.],\n",
       "        [0., 1., 0., 0.],\n",
       "        [0., 0., 1., 0.],\n",
       "        [0., 0., 0., 1.]], device='cuda:0', dtype=torch.float64)\n",
       "\n",
       "Applied operations\n",
       "[]\n",
       "Is batch?: False"
      ]
     },
     "execution_count": 88,
     "metadata": {},
     "output_type": "execute_result"
    },
    {
     "name": "stderr",
     "output_type": "stream",
     "text": [
      "Val:   epoch #1:  57% 12/21 [00:11<00:11,  1.24s/it]"
     ]
    },
    {
     "data": {
      "text/plain": [
       "tensor([[0.0743, 0.0599, 0.0245],\n",
       "        [0.0161, 0.0255, 0.0372]], device='cuda:0')\n",
       "MetaData\n",
       "\taffine: tensor([[1., 0., 0., 0.],\n",
       "        [0., 1., 0., 0.],\n",
       "        [0., 0., 1., 0.],\n",
       "        [0., 0., 0., 1.]], device='cuda:0', dtype=torch.float64)\n",
       "\n",
       "Applied operations\n",
       "[]\n",
       "Is batch?: False"
      ]
     },
     "execution_count": 88,
     "metadata": {},
     "output_type": "execute_result"
    },
    {
     "name": "stderr",
     "output_type": "stream",
     "text": [
      "Val:   epoch #1:  62% 13/21 [00:13<00:10,  1.26s/it]"
     ]
    },
    {
     "data": {
      "text/plain": [
       "tensor([[0.1096, 0.1047, 0.0406],\n",
       "        [0.1004, 0.0833, 0.0327]], device='cuda:0')\n",
       "MetaData\n",
       "\taffine: tensor([[1., 0., 0., 0.],\n",
       "        [0., 1., 0., 0.],\n",
       "        [0., 0., 1., 0.],\n",
       "        [0., 0., 0., 1.]], device='cuda:0', dtype=torch.float64)\n",
       "\n",
       "Applied operations\n",
       "[]\n",
       "Is batch?: False"
      ]
     },
     "execution_count": 88,
     "metadata": {},
     "output_type": "execute_result"
    },
    {
     "name": "stderr",
     "output_type": "stream",
     "text": [
      "Val:   epoch #1:  67% 14/21 [00:14<00:08,  1.27s/it]"
     ]
    },
    {
     "data": {
      "text/plain": [
       "tensor([[0.1069, 0.0858, 0.0302],\n",
       "        [0.0965, 0.0962, 0.0317]], device='cuda:0')\n",
       "MetaData\n",
       "\taffine: tensor([[1., 0., 0., 0.],\n",
       "        [0., 1., 0., 0.],\n",
       "        [0., 0., 1., 0.],\n",
       "        [0., 0., 0., 1.]], device='cuda:0', dtype=torch.float64)\n",
       "\n",
       "Applied operations\n",
       "[]\n",
       "Is batch?: False"
      ]
     },
     "execution_count": 88,
     "metadata": {},
     "output_type": "execute_result"
    },
    {
     "name": "stderr",
     "output_type": "stream",
     "text": [
      "Val:   epoch #1:  71% 15/21 [00:15<00:07,  1.28s/it]"
     ]
    },
    {
     "data": {
      "text/plain": [
       "tensor([[0.1105, 0.0817, 0.0399],\n",
       "        [0.1183, 0.0983, 0.0376]], device='cuda:0')\n",
       "MetaData\n",
       "\taffine: tensor([[1., 0., 0., 0.],\n",
       "        [0., 1., 0., 0.],\n",
       "        [0., 0., 1., 0.],\n",
       "        [0., 0., 0., 1.]], device='cuda:0', dtype=torch.float64)\n",
       "\n",
       "Applied operations\n",
       "[]\n",
       "Is batch?: False"
      ]
     },
     "execution_count": 88,
     "metadata": {},
     "output_type": "execute_result"
    },
    {
     "name": "stderr",
     "output_type": "stream",
     "text": [
      "Val:   epoch #1:  76% 16/21 [00:17<00:06,  1.28s/it]"
     ]
    },
    {
     "data": {
      "text/plain": [
       "tensor([[0.1335, 0.0409, 0.0362],\n",
       "        [0.1487, 0.0921, 0.0339]], device='cuda:0')\n",
       "MetaData\n",
       "\taffine: tensor([[1., 0., 0., 0.],\n",
       "        [0., 1., 0., 0.],\n",
       "        [0., 0., 1., 0.],\n",
       "        [0., 0., 0., 1.]], device='cuda:0', dtype=torch.float64)\n",
       "\n",
       "Applied operations\n",
       "[]\n",
       "Is batch?: False"
      ]
     },
     "execution_count": 88,
     "metadata": {},
     "output_type": "execute_result"
    },
    {
     "name": "stderr",
     "output_type": "stream",
     "text": [
      "Val:   epoch #1:  81% 17/21 [00:18<00:05,  1.29s/it]"
     ]
    },
    {
     "data": {
      "text/plain": [
       "tensor([[0.0901, 0.0466, 0.0203],\n",
       "        [0.0892, 0.0215, 0.0187]], device='cuda:0')\n",
       "MetaData\n",
       "\taffine: tensor([[1., 0., 0., 0.],\n",
       "        [0., 1., 0., 0.],\n",
       "        [0., 0., 1., 0.],\n",
       "        [0., 0., 0., 1.]], device='cuda:0', dtype=torch.float64)\n",
       "\n",
       "Applied operations\n",
       "[]\n",
       "Is batch?: False"
      ]
     },
     "execution_count": 88,
     "metadata": {},
     "output_type": "execute_result"
    },
    {
     "name": "stderr",
     "output_type": "stream",
     "text": [
      "Val:   epoch #1:  86% 18/21 [00:19<00:03,  1.30s/it]"
     ]
    },
    {
     "data": {
      "text/plain": [
       "tensor([[0.0926, 0.0910, 0.0399],\n",
       "        [0.0538, 0.0316, 0.0425]], device='cuda:0')\n",
       "MetaData\n",
       "\taffine: tensor([[1., 0., 0., 0.],\n",
       "        [0., 1., 0., 0.],\n",
       "        [0., 0., 1., 0.],\n",
       "        [0., 0., 0., 1.]], device='cuda:0', dtype=torch.float64)\n",
       "\n",
       "Applied operations\n",
       "[]\n",
       "Is batch?: False"
      ]
     },
     "execution_count": 88,
     "metadata": {},
     "output_type": "execute_result"
    },
    {
     "name": "stderr",
     "output_type": "stream",
     "text": [
      "Val:   epoch #1:  90% 19/21 [00:21<00:02,  1.30s/it]"
     ]
    },
    {
     "data": {
      "text/plain": [
       "tensor([[0.0301, 0.0351, 0.0428],\n",
       "        [0.0649, 0.0677, 0.0521]], device='cuda:0')\n",
       "MetaData\n",
       "\taffine: tensor([[1., 0., 0., 0.],\n",
       "        [0., 1., 0., 0.],\n",
       "        [0., 0., 1., 0.],\n",
       "        [0., 0., 0., 1.]], device='cuda:0', dtype=torch.float64)\n",
       "\n",
       "Applied operations\n",
       "[]\n",
       "Is batch?: False"
      ]
     },
     "execution_count": 88,
     "metadata": {},
     "output_type": "execute_result"
    },
    {
     "name": "stderr",
     "output_type": "stream",
     "text": [
      "Val:   epoch #1:  95% 20/21 [00:22<00:01,  1.30s/it]"
     ]
    },
    {
     "data": {
      "text/plain": [
       "tensor([[0.0767, 0.0880, 0.0494],\n",
       "        [0.0662, 0.1169, 0.0605]], device='cuda:0')\n",
       "MetaData\n",
       "\taffine: tensor([[1., 0., 0., 0.],\n",
       "        [0., 1., 0., 0.],\n",
       "        [0., 0., 1., 0.],\n",
       "        [0., 0., 0., 1.]], device='cuda:0', dtype=torch.float64)\n",
       "\n",
       "Applied operations\n",
       "[]\n",
       "Is batch?: False"
      ]
     },
     "execution_count": 88,
     "metadata": {},
     "output_type": "execute_result"
    },
    {
     "name": "stderr",
     "output_type": "stream",
     "text": [
      "Val:   epoch #1: 100% 21/21 [00:23<00:00,  1.13s/it]\n"
     ]
    }
   ],
   "source": [
    "model = model.eval()\n",
    "img_size = (384, 384, 144)\n",
    "val_bar = tqdm(\n",
    "    enumerate(val_loader),\n",
    "    total=len(val_loader),\n",
    "    desc=f\"Val:   epoch #{1}\",\n",
    ")\n",
    "with torch.no_grad():\n",
    "    for step, batch in val_bar:\n",
    "        val_inputs, val_labels = batch[\"image\"].to(device), batch[\"label\"].to(device)\n",
    "        val_outputs = sliding_window_inference(val_inputs, img_size, 4, model)\n",
    "        val_labels_list = decollate_batch(val_labels)\n",
    "        val_labels_convert = val_labels_list\n",
    "        val_outputs_list = decollate_batch(val_outputs)\n",
    "        val_output_convert = [\n",
    "            post_pred(val_pred_tensor) for val_pred_tensor in val_outputs_list\n",
    "        ]\n",
    "        dice_metric(y_pred=val_output_convert, y=val_labels_convert)\n",
    "    mean_dice_val = dice_metric.aggregate().item()\n",
    "    dice_metric.reset()"
   ]
  },
  {
   "cell_type": "code",
   "execution_count": 89,
   "id": "2f17e1b5-6d9b-4c51-b29c-fc33d4dc234a",
   "metadata": {},
   "outputs": [
    {
     "data": {
      "text/plain": [
       "0.06713108718395233"
      ]
     },
     "execution_count": 89,
     "metadata": {},
     "output_type": "execute_result"
    }
   ],
   "source": [
    "mean_dice_val"
   ]
  },
  {
   "cell_type": "code",
   "execution_count": 67,
   "id": "ea537c94-7076-48b0-b26b-6ee99690172c",
   "metadata": {},
   "outputs": [],
   "source": [
    "from monai.metrics import CumulativeIterationMetric\n",
    "from monai.metrics.utils import (\n",
    "    do_metric_reduction,\n",
    "    get_mask_edges,\n",
    "    get_surface_distance,\n",
    ")\n",
    "\n",
    "\n",
    "class HausdorffScore(CumulativeIterationMetric):\n",
    "    \"\"\"\n",
    "    Modify MONAI's HausdorffDistanceMetric for Kaggle UW-Madison GI Tract Image Segmentation\n",
    "\n",
    "    \"\"\"\n",
    "\n",
    "    def __init__(\n",
    "        self,\n",
    "        reduction=\"mean\",\n",
    "    ) -> None:\n",
    "        super().__init__()\n",
    "        self.reduction = reduction\n",
    "\n",
    "    def _compute_tensor(self, pred, gt):\n",
    "\n",
    "        return compute_hausdorff_score(pred, gt)\n",
    "\n",
    "    def aggregate(self):\n",
    "        \"\"\"\n",
    "        Execute reduction logic for the output of `compute_hausdorff_distance`.\n",
    "\n",
    "        \"\"\"\n",
    "        data = self.get_buffer()\n",
    "        # do metric reduction\n",
    "        f, _ = do_metric_reduction(data, self.reduction)\n",
    "        return f\n",
    "\n",
    "\n",
    "def compute_directed_hausdorff(pred, gt, max_dist):\n",
    "    if np.all(pred == gt):\n",
    "        return 0.0\n",
    "    if np.sum(pred) == 0:\n",
    "        return 1.0\n",
    "    if np.sum(gt) == 0:\n",
    "        return 1.0\n",
    "    (edges_pred, edges_gt) = get_mask_edges(pred, gt)\n",
    "    surface_distance = get_surface_distance(\n",
    "        edges_pred, edges_gt, distance_metric=\"euclidean\"\n",
    "    )\n",
    "    if surface_distance.shape == (0,):\n",
    "        return 0.0\n",
    "    dist = surface_distance.max()\n",
    "\n",
    "    if dist > max_dist:\n",
    "        return 1.0\n",
    "    return dist / max_dist\n",
    "\n",
    "\n",
    "def compute_hausdorff_score(pred, gt):\n",
    "\n",
    "    y = gt.float().to(\"cpu\").numpy()\n",
    "    y_pred = pred.float().to(\"cpu\").numpy()\n",
    "\n",
    "    # hausdorff distance score\n",
    "    batch_size, n_class = y_pred.shape[:2]\n",
    "    spatial_size = y_pred.shape[2:]\n",
    "    max_dist = np.sqrt(np.sum([l**2 for l in spatial_size]))\n",
    "    hd_score = np.empty((batch_size, n_class))\n",
    "    for b, c in np.ndindex(batch_size, n_class):\n",
    "        hd_score[b, c] = 1 - compute_directed_hausdorff(y_pred[b, c], y[b, c], max_dist)\n",
    "\n",
    "    return torch.from_numpy(hd_score)"
   ]
  },
  {
   "cell_type": "code",
   "execution_count": 73,
   "id": "311c65c2-3a05-404a-b0d2-bad1ad1e6ff4",
   "metadata": {},
   "outputs": [],
   "source": [
    "dice_metric = DiceMetric(reduction=\"mean\")\n",
    "hausdorff_metric = HausdorffScore(reduction=\"mean\")\n",
    "metric_function = [dice_metric, hausdorff_metric]"
   ]
  },
  {
   "cell_type": "code",
   "execution_count": 74,
   "id": "9b0eaba2-3c50-4c54-b3e8-c5e1161731c8",
   "metadata": {
    "collapsed": true,
    "jupyter": {
     "outputs_hidden": true
    },
    "tags": []
   },
   "outputs": [
    {
     "data": {
      "text/plain": [
       "tensor([[1.0000, 1.0000, 1.0000],\n",
       "        [1.0000, 1.0000, 1.0000],\n",
       "        [1.0000, 1.0000, 1.0000],\n",
       "        [1.0000, 1.0000, 1.0000],\n",
       "        [1.0000, 1.0000, 1.0000],\n",
       "        [1.0000, 1.0000, 1.0000],\n",
       "        [1.0000, 1.0000, 1.0000],\n",
       "        [1.0000, 1.0000, 1.0000],\n",
       "        [1.0000, 1.0000, 1.0000],\n",
       "        [1.0000, 1.0000, 1.0000],\n",
       "        [1.0000, 1.0000, 1.0000],\n",
       "        [1.0000, 1.0000, 1.0000],\n",
       "        [1.0000, 1.0000, 1.0000],\n",
       "        [1.0000, 1.0000, 1.0000],\n",
       "        [1.0000, 1.0000, 1.0000],\n",
       "        [1.0000, 1.0000, 1.0000],\n",
       "        [1.0000, 1.0000, 1.0000],\n",
       "        [1.0000, 1.0000, 1.0000],\n",
       "        [1.0000, 1.0000, 1.0000],\n",
       "        [1.0000, 1.0000, 1.0000],\n",
       "        [1.0000, 1.0000, 1.0000],\n",
       "        [1.0000, 1.0000, 1.0000],\n",
       "        [1.0000, 1.0000, 1.0000],\n",
       "        [1.0000, 1.0000, 1.0000],\n",
       "        [1.0000, 1.0000, 1.0000],\n",
       "        [1.0000, 1.0000, 1.0000],\n",
       "        [1.0000, 1.0000, 1.0000],\n",
       "        [0.0000, 0.0000, 0.0000],\n",
       "        [0.0000, 0.0000, 0.0000],\n",
       "        [0.0000, 0.0000, 0.0000],\n",
       "        [0.0000, 0.0000, 0.0000],\n",
       "        [0.0000, 0.0000, 0.0000],\n",
       "        [0.0000, 0.0000, 0.0000],\n",
       "        [0.0000, 0.0000, 0.0000],\n",
       "        [0.0000, 0.0000, 0.0000],\n",
       "        [0.0000, 0.0000, 0.0000],\n",
       "        [0.0000, 0.0000, 0.0000],\n",
       "        [0.0000, 0.0000, 0.0000],\n",
       "        [0.0000, 0.0000, 0.0000],\n",
       "        [0.0000, 0.0000, 0.0000],\n",
       "        [0.0000, 0.0000, 0.0000],\n",
       "        [0.0000, 0.0000, 0.0000],\n",
       "        [0.0000, 0.0000, 0.0000],\n",
       "        [0.0000, 0.0000, 0.0000],\n",
       "        [0.0000, 0.0000, 0.0000],\n",
       "        [0.0000, 0.0000, 0.0000],\n",
       "        [0.0000, 0.0000, 0.0000],\n",
       "        [0.0000, 0.0000, 0.0000],\n",
       "        [0.0000, 0.0000, 0.0000],\n",
       "        [0.0000, 0.0000, 0.0000],\n",
       "        [0.0000, 0.0000, 0.0000],\n",
       "        [0.0000, 0.0000, 0.0000],\n",
       "        [0.0000, 0.0000, 0.0000],\n",
       "        [0.0000, 0.0000, 0.0000],\n",
       "        [0.0000, 0.0000, 0.0000],\n",
       "        [0.0000, 0.0000, 0.0000],\n",
       "        [0.0000, 0.0000, 0.0000],\n",
       "        [0.0000, 0.0000, 0.0000],\n",
       "        [0.0000, 0.0000, 0.0000],\n",
       "        [0.0000, 0.0000, 0.0000],\n",
       "        [0.0000, 0.0000, 0.0000],\n",
       "        [0.0000, 0.0000, 0.0000],\n",
       "        [0.0000, 0.0000, 0.0000],\n",
       "        [0.0000, 0.0000, 0.0000],\n",
       "        [0.0000, 0.0000, 0.0000],\n",
       "        [0.0000, 0.0000, 0.8002],\n",
       "        [0.0000, 0.0000, 0.7997],\n",
       "        [0.0000, 0.0000, 0.8002],\n",
       "        [0.0000, 0.0000, 0.8043],\n",
       "        [0.0000, 0.0000, 0.8088],\n",
       "        [0.0000, 0.0000, 0.8173],\n",
       "        [0.0000, 0.0000, 0.8198],\n",
       "        [0.0000, 0.0000, 0.8109],\n",
       "        [0.6996, 0.0000, 0.8026],\n",
       "        [0.6903, 0.0000, 0.7851],\n",
       "        [0.6852, 0.0000, 0.7655],\n",
       "        [0.6839, 0.0000, 0.7611],\n",
       "        [0.6833, 0.0000, 0.7592],\n",
       "        [0.6825, 0.0000, 0.7569],\n",
       "        [0.6811, 0.0000, 0.7529],\n",
       "        [0.6825, 0.0000, 0.7519],\n",
       "        [0.6830, 0.0000, 0.7562],\n",
       "        [0.6854, 0.0000, 0.7726],\n",
       "        [0.6843, 0.0000, 0.7947],\n",
       "        [0.6840, 0.0000, 0.7884],\n",
       "        [0.6808, 0.0000, 0.7643],\n",
       "        [0.6801, 0.0000, 0.7786],\n",
       "        [0.8099, 0.0000, 0.7682],\n",
       "        [0.8122, 0.0000, 0.7682],\n",
       "        [0.8125, 0.0000, 0.7706],\n",
       "        [0.8138, 0.7685, 0.7755],\n",
       "        [0.8149, 0.7686, 0.7821],\n",
       "        [0.8139, 0.7694, 0.7854],\n",
       "        [0.8139, 0.7693, 0.7880],\n",
       "        [0.8134, 0.7677, 0.7883],\n",
       "        [0.8112, 0.7667, 0.7885],\n",
       "        [0.8124, 0.8379, 0.7880],\n",
       "        [0.8119, 0.8378, 0.7810],\n",
       "        [0.8133, 0.8391, 0.7773],\n",
       "        [0.8115, 0.8386, 0.7734],\n",
       "        [0.8102, 0.8386, 0.7695],\n",
       "        [0.8077, 0.8340, 0.0000],\n",
       "        [0.8059, 0.8367, 0.0000],\n",
       "        [0.8044, 0.8350, 0.0000],\n",
       "        [0.8055, 0.8345, 0.0000],\n",
       "        [0.8069, 0.8330, 0.0000],\n",
       "        [0.8130, 0.8349, 0.0000],\n",
       "        [0.8216, 0.8328, 0.0000],\n",
       "        [0.8282, 0.8351, 0.0000],\n",
       "        [0.8371, 0.8360, 0.0000],\n",
       "        [0.8519, 0.8317, 0.0000],\n",
       "        [0.0000, 0.0000, 0.0000],\n",
       "        [0.0000, 0.0000, 0.0000],\n",
       "        [0.0000, 0.0000, 0.0000],\n",
       "        [0.0000, 0.0000, 0.0000],\n",
       "        [0.0000, 0.0000, 0.0000],\n",
       "        [0.0000, 0.0000, 0.0000],\n",
       "        [0.0000, 0.0000, 0.0000],\n",
       "        [0.0000, 0.0000, 0.0000],\n",
       "        [0.0000, 0.0000, 0.0000],\n",
       "        [0.0000, 0.0000, 0.0000],\n",
       "        [0.0000, 0.0000, 0.0000],\n",
       "        [0.0000, 0.0000, 0.0000],\n",
       "        [0.0000, 0.0000, 0.0000],\n",
       "        [0.0000, 0.0000, 0.0000],\n",
       "        [0.0000, 0.0000, 0.0000],\n",
       "        [0.0000, 0.0000, 0.0000],\n",
       "        [0.0000, 0.0000, 0.0000],\n",
       "        [0.0000, 0.0000, 0.0000],\n",
       "        [0.0000, 0.0000, 0.0000],\n",
       "        [0.0000, 0.0000, 0.0000],\n",
       "        [0.0000, 0.0000, 0.0000],\n",
       "        [0.0000, 0.0000, 0.0000],\n",
       "        [0.0000, 0.0000, 0.0000],\n",
       "        [0.0000, 0.0000, 0.0000],\n",
       "        [0.0000, 0.0000, 0.0000],\n",
       "        [0.0000, 0.0000, 0.0000],\n",
       "        [0.0000, 0.0000, 0.0000],\n",
       "        [0.0000, 0.0000, 0.0000],\n",
       "        [1.0000, 1.0000, 1.0000],\n",
       "        [1.0000, 1.0000, 1.0000],\n",
       "        [1.0000, 1.0000, 1.0000],\n",
       "        [1.0000, 1.0000, 1.0000],\n",
       "        [1.0000, 1.0000, 1.0000],\n",
       "        [1.0000, 1.0000, 1.0000],\n",
       "        [1.0000, 1.0000, 1.0000],\n",
       "        [1.0000, 1.0000, 1.0000],\n",
       "        [1.0000, 1.0000, 1.0000],\n",
       "        [1.0000, 1.0000, 1.0000],\n",
       "        [1.0000, 1.0000, 1.0000],\n",
       "        [1.0000, 1.0000, 1.0000],\n",
       "        [1.0000, 1.0000, 1.0000],\n",
       "        [1.0000, 1.0000, 1.0000],\n",
       "        [1.0000, 1.0000, 1.0000],\n",
       "        [1.0000, 1.0000, 1.0000],\n",
       "        [1.0000, 1.0000, 1.0000],\n",
       "        [1.0000, 1.0000, 1.0000],\n",
       "        [1.0000, 1.0000, 1.0000],\n",
       "        [1.0000, 1.0000, 1.0000],\n",
       "        [1.0000, 1.0000, 1.0000],\n",
       "        [1.0000, 1.0000, 1.0000],\n",
       "        [1.0000, 1.0000, 1.0000],\n",
       "        [1.0000, 1.0000, 1.0000],\n",
       "        [1.0000, 1.0000, 1.0000],\n",
       "        [1.0000, 1.0000, 1.0000],\n",
       "        [1.0000, 1.0000, 1.0000],\n",
       "        [1.0000, 1.0000, 1.0000],\n",
       "        [1.0000, 1.0000, 1.0000],\n",
       "        [1.0000, 1.0000, 1.0000],\n",
       "        [1.0000, 1.0000, 1.0000],\n",
       "        [1.0000, 1.0000, 1.0000],\n",
       "        [1.0000, 1.0000, 1.0000],\n",
       "        [1.0000, 1.0000, 1.0000],\n",
       "        [1.0000, 1.0000, 1.0000],\n",
       "        [1.0000, 1.0000, 1.0000],\n",
       "        [1.0000, 1.0000, 1.0000],\n",
       "        [1.0000, 1.0000, 1.0000],\n",
       "        [1.0000, 1.0000, 1.0000],\n",
       "        [1.0000, 1.0000, 1.0000],\n",
       "        [1.0000, 1.0000, 1.0000],\n",
       "        [1.0000, 1.0000, 1.0000],\n",
       "        [1.0000, 1.0000, 1.0000],\n",
       "        [1.0000, 1.0000, 1.0000],\n",
       "        [0.0000, 0.0000, 0.0000],\n",
       "        [0.0000, 0.0000, 0.0000],\n",
       "        [0.0000, 0.0000, 0.0000],\n",
       "        [0.0000, 0.0000, 0.0000],\n",
       "        [0.0000, 0.0000, 0.0000],\n",
       "        [0.0000, 0.0000, 0.0000],\n",
       "        [0.0000, 0.0000, 0.0000],\n",
       "        [0.0000, 0.0000, 0.0000],\n",
       "        [0.0000, 0.0000, 0.0000],\n",
       "        [0.0000, 0.0000, 0.0000],\n",
       "        [0.0000, 0.0000, 0.0000],\n",
       "        [0.0000, 0.0000, 0.0000],\n",
       "        [0.0000, 0.0000, 0.0000],\n",
       "        [0.0000, 0.0000, 0.0000],\n",
       "        [0.0000, 0.0000, 0.0000],\n",
       "        [0.0000, 0.0000, 0.0000],\n",
       "        [0.0000, 0.0000, 0.0000],\n",
       "        [0.0000, 0.0000, 0.0000],\n",
       "        [0.0000, 0.0000, 0.0000],\n",
       "        [0.0000, 0.0000, 0.0000],\n",
       "        [0.0000, 0.0000, 0.0000],\n",
       "        [0.0000, 0.0000, 0.0000],\n",
       "        [0.0000, 0.0000, 0.7892],\n",
       "        [0.0000, 0.0000, 0.7492],\n",
       "        [0.0000, 0.0000, 0.8039],\n",
       "        [0.0000, 0.0000, 0.8036],\n",
       "        [0.0000, 0.0000, 0.7979],\n",
       "        [0.0000, 0.0000, 0.7947],\n",
       "        [0.0000, 0.0000, 0.7862],\n",
       "        [0.0000, 0.0000, 0.7808],\n",
       "        [0.0000, 0.0000, 0.7747],\n",
       "        [0.0000, 0.0000, 0.7566],\n",
       "        [0.0000, 0.0000, 0.7436],\n",
       "        [0.0000, 0.0000, 0.7392],\n",
       "        [0.6688, 0.0000, 0.7356],\n",
       "        [0.6720, 0.0000, 0.7384],\n",
       "        [0.6740, 0.0000, 0.7410],\n",
       "        [0.6797, 0.0000, 0.7420],\n",
       "        [0.6822, 0.0000, 0.7414],\n",
       "        [0.8177, 0.0000, 0.7414],\n",
       "        [0.8194, 0.0000, 0.7419],\n",
       "        [0.8186, 0.0000, 0.7480],\n",
       "        [0.8161, 0.0000, 0.7538],\n",
       "        [0.8192, 0.0000, 0.7624],\n",
       "        [0.8202, 0.0000, 0.7767],\n",
       "        [0.8181, 0.0000, 0.7893],\n",
       "        [0.8155, 0.7462, 0.7893],\n",
       "        [0.8154, 0.7485, 0.7908],\n",
       "        [0.8214, 0.6849, 0.7974],\n",
       "        [0.8226, 0.7479, 0.8030],\n",
       "        [0.8214, 0.7479, 0.8008],\n",
       "        [0.8214, 0.7471, 0.7992],\n",
       "        [0.8201, 0.8163, 0.7863],\n",
       "        [0.8180, 0.8411, 0.7799],\n",
       "        [0.8174, 0.8440, 0.7810],\n",
       "        [0.8165, 0.8458, 0.7718],\n",
       "        [0.8161, 0.8465, 0.7679],\n",
       "        [0.8147, 0.8464, 0.7629],\n",
       "        [0.8144, 0.8452, 0.0000],\n",
       "        [0.8118, 0.8454, 0.0000],\n",
       "        [0.8135, 0.8552, 0.0000],\n",
       "        [0.8165, 0.8419, 0.0000],\n",
       "        [0.8206, 0.8417, 0.0000],\n",
       "        [0.8232, 0.8443, 0.0000],\n",
       "        [0.8287, 0.8394, 0.0000],\n",
       "        [0.8344, 0.8456, 0.0000],\n",
       "        [0.8346, 0.8365, 0.0000],\n",
       "        [0.8359, 0.8391, 0.0000],\n",
       "        [0.8475, 0.8633, 0.0000],\n",
       "        [0.8592, 0.8649, 0.0000],\n",
       "        [0.8527, 0.8623, 0.0000],\n",
       "        [0.8503, 0.8601, 0.0000],\n",
       "        [0.8446, 0.8515, 0.0000],\n",
       "        [0.8378, 0.8497, 0.0000],\n",
       "        [0.8385, 0.8502, 0.0000],\n",
       "        [0.8346, 0.8517, 0.0000],\n",
       "        [0.8359, 0.8526, 0.0000],\n",
       "        [0.8372, 0.8534, 0.0000],\n",
       "        [0.8361, 0.8598, 0.0000],\n",
       "        [0.8372, 0.8606, 0.0000],\n",
       "        [0.8333, 0.8643, 0.0000],\n",
       "        [0.8320, 0.8718, 0.0000],\n",
       "        [0.8269, 0.8696, 0.0000],\n",
       "        [0.8206, 0.8713, 0.0000],\n",
       "        [0.0000, 0.0000, 0.0000],\n",
       "        [0.0000, 0.0000, 0.0000],\n",
       "        [0.0000, 0.0000, 0.0000],\n",
       "        [0.0000, 0.0000, 0.0000],\n",
       "        [0.0000, 0.0000, 0.0000],\n",
       "        [0.0000, 0.0000, 0.0000],\n",
       "        [0.0000, 0.0000, 0.0000],\n",
       "        [0.0000, 0.0000, 0.0000],\n",
       "        [0.0000, 0.0000, 0.0000],\n",
       "        [0.0000, 0.0000, 0.0000],\n",
       "        [0.0000, 0.0000, 0.0000],\n",
       "        [0.0000, 0.0000, 0.0000],\n",
       "        [0.0000, 0.0000, 0.0000],\n",
       "        [0.0000, 0.0000, 0.0000],\n",
       "        [0.0000, 0.0000, 0.0000],\n",
       "        [1.0000, 1.0000, 1.0000],\n",
       "        [1.0000, 1.0000, 1.0000],\n",
       "        [1.0000, 1.0000, 1.0000],\n",
       "        [1.0000, 1.0000, 1.0000],\n",
       "        [1.0000, 1.0000, 1.0000],\n",
       "        [1.0000, 1.0000, 1.0000]], dtype=torch.float64)"
      ]
     },
     "execution_count": 74,
     "metadata": {},
     "output_type": "execute_result"
    },
    {
     "data": {
      "text/plain": [
       "tensor([[   nan,    nan,    nan],\n",
       "        [   nan,    nan,    nan],\n",
       "        [   nan,    nan,    nan],\n",
       "        [   nan,    nan,    nan],\n",
       "        [   nan,    nan,    nan],\n",
       "        [   nan,    nan,    nan],\n",
       "        [   nan,    nan,    nan],\n",
       "        [   nan,    nan,    nan],\n",
       "        [   nan,    nan,    nan],\n",
       "        [   nan,    nan,    nan],\n",
       "        [   nan,    nan,    nan],\n",
       "        [   nan,    nan,    nan],\n",
       "        [   nan,    nan,    nan],\n",
       "        [   nan,    nan,    nan],\n",
       "        [   nan,    nan,    nan],\n",
       "        [   nan,    nan,    nan],\n",
       "        [   nan,    nan,    nan],\n",
       "        [   nan,    nan,    nan],\n",
       "        [   nan,    nan,    nan],\n",
       "        [   nan,    nan,    nan],\n",
       "        [   nan,    nan,    nan],\n",
       "        [   nan,    nan,    nan],\n",
       "        [   nan,    nan,    nan],\n",
       "        [   nan,    nan,    nan],\n",
       "        [   nan,    nan,    nan],\n",
       "        [   nan,    nan,    nan],\n",
       "        [   nan,    nan,    nan],\n",
       "        [   nan,    nan,    nan],\n",
       "        [   nan,    nan,    nan],\n",
       "        [   nan,    nan,    nan],\n",
       "        [   nan,    nan,    nan],\n",
       "        [   nan,    nan,    nan],\n",
       "        [   nan,    nan,    nan],\n",
       "        [   nan,    nan,    nan],\n",
       "        [   nan,    nan,    nan],\n",
       "        [   nan,    nan,    nan],\n",
       "        [   nan,    nan,    nan],\n",
       "        [   nan,    nan,    nan],\n",
       "        [   nan,    nan,    nan],\n",
       "        [   nan,    nan,    nan],\n",
       "        [   nan,    nan,    nan],\n",
       "        [   nan,    nan,    nan],\n",
       "        [   nan,    nan,    nan],\n",
       "        [   nan,    nan,    nan],\n",
       "        [   nan,    nan,    nan],\n",
       "        [   nan,    nan,    nan],\n",
       "        [   nan,    nan,    nan],\n",
       "        [   nan,    nan,    nan],\n",
       "        [   nan,    nan,    nan],\n",
       "        [   nan,    nan,    nan],\n",
       "        [   nan,    nan,    nan],\n",
       "        [   nan,    nan,    nan],\n",
       "        [   nan,    nan,    nan],\n",
       "        [   nan,    nan,    nan],\n",
       "        [   nan,    nan,    nan],\n",
       "        [   nan,    nan,    nan],\n",
       "        [   nan,    nan,    nan],\n",
       "        [   nan,    nan,    nan],\n",
       "        [   nan,    nan,    nan],\n",
       "        [   nan,    nan,    nan],\n",
       "        [   nan,    nan,    nan],\n",
       "        [   nan,    nan,    nan],\n",
       "        [   nan,    nan,    nan],\n",
       "        [   nan,    nan,    nan],\n",
       "        [   nan,    nan,    nan],\n",
       "        [   nan,    nan, 0.0834],\n",
       "        [   nan,    nan, 0.1126],\n",
       "        [   nan,    nan, 0.1350],\n",
       "        [   nan,    nan, 0.1675],\n",
       "        [   nan,    nan, 0.1958],\n",
       "        [   nan,    nan, 0.2199],\n",
       "        [   nan,    nan, 0.2280],\n",
       "        [   nan,    nan, 0.2219],\n",
       "        [0.0000,    nan, 0.2101],\n",
       "        [0.0006,    nan, 0.1999],\n",
       "        [0.0090,    nan, 0.1866],\n",
       "        [0.0163,    nan, 0.1977],\n",
       "        [0.0244,    nan, 0.2252],\n",
       "        [0.0326,    nan, 0.1966],\n",
       "        [0.0419,    nan, 0.1837],\n",
       "        [0.0496,    nan, 0.1717],\n",
       "        [0.0559,    nan, 0.1682],\n",
       "        [0.0677,    nan, 0.1852],\n",
       "        [0.0689,    nan, 0.2026],\n",
       "        [0.0687,    nan, 0.1839],\n",
       "        [0.0687,    nan, 0.1744],\n",
       "        [0.0687,    nan, 0.1857],\n",
       "        [0.0746,    nan, 0.1872],\n",
       "        [0.0828,    nan, 0.1686],\n",
       "        [0.0897,    nan, 0.1526],\n",
       "        [0.1014, 0.0119, 0.1501],\n",
       "        [0.1235, 0.0173, 0.1528],\n",
       "        [0.1294, 0.0192, 0.1464],\n",
       "        [0.1365, 0.0227, 0.1406],\n",
       "        [0.1349, 0.0334, 0.1327],\n",
       "        [0.1499, 0.0456, 0.1032],\n",
       "        [0.1610, 0.0841, 0.0956],\n",
       "        [0.1717, 0.1389, 0.0414],\n",
       "        [0.1760, 0.1004, 0.0329],\n",
       "        [0.1724, 0.1128, 0.0255],\n",
       "        [0.1840, 0.1306, 0.0134],\n",
       "        [0.2196, 0.1606,    nan],\n",
       "        [0.2431, 0.1722,    nan],\n",
       "        [0.2412, 0.1767,    nan],\n",
       "        [0.2501, 0.1988,    nan],\n",
       "        [0.2423, 0.2194,    nan],\n",
       "        [0.2282, 0.2602,    nan],\n",
       "        [0.2150, 0.2576,    nan],\n",
       "        [0.1660, 0.2359,    nan],\n",
       "        [0.1439, 0.2832,    nan],\n",
       "        [0.1664, 0.2318,    nan],\n",
       "        [   nan,    nan,    nan],\n",
       "        [   nan,    nan,    nan],\n",
       "        [   nan,    nan,    nan],\n",
       "        [   nan,    nan,    nan],\n",
       "        [   nan,    nan,    nan],\n",
       "        [   nan,    nan,    nan],\n",
       "        [   nan,    nan,    nan],\n",
       "        [   nan,    nan,    nan],\n",
       "        [   nan,    nan,    nan],\n",
       "        [   nan,    nan,    nan],\n",
       "        [   nan,    nan,    nan],\n",
       "        [   nan,    nan,    nan],\n",
       "        [   nan,    nan,    nan],\n",
       "        [   nan,    nan,    nan],\n",
       "        [   nan,    nan,    nan],\n",
       "        [   nan,    nan,    nan],\n",
       "        [   nan,    nan,    nan],\n",
       "        [   nan,    nan,    nan],\n",
       "        [   nan,    nan,    nan],\n",
       "        [   nan,    nan,    nan],\n",
       "        [   nan,    nan,    nan],\n",
       "        [   nan,    nan,    nan],\n",
       "        [   nan,    nan,    nan],\n",
       "        [   nan,    nan,    nan],\n",
       "        [   nan,    nan,    nan],\n",
       "        [   nan,    nan,    nan],\n",
       "        [   nan,    nan,    nan],\n",
       "        [   nan,    nan,    nan],\n",
       "        [   nan,    nan,    nan],\n",
       "        [   nan,    nan,    nan],\n",
       "        [   nan,    nan,    nan],\n",
       "        [   nan,    nan,    nan],\n",
       "        [   nan,    nan,    nan],\n",
       "        [   nan,    nan,    nan],\n",
       "        [   nan,    nan,    nan],\n",
       "        [   nan,    nan,    nan],\n",
       "        [   nan,    nan,    nan],\n",
       "        [   nan,    nan,    nan],\n",
       "        [   nan,    nan,    nan],\n",
       "        [   nan,    nan,    nan],\n",
       "        [   nan,    nan,    nan],\n",
       "        [   nan,    nan,    nan],\n",
       "        [   nan,    nan,    nan],\n",
       "        [   nan,    nan,    nan],\n",
       "        [   nan,    nan,    nan],\n",
       "        [   nan,    nan,    nan],\n",
       "        [   nan,    nan,    nan],\n",
       "        [   nan,    nan,    nan],\n",
       "        [   nan,    nan,    nan],\n",
       "        [   nan,    nan,    nan],\n",
       "        [   nan,    nan,    nan],\n",
       "        [   nan,    nan,    nan],\n",
       "        [   nan,    nan,    nan],\n",
       "        [   nan,    nan,    nan],\n",
       "        [   nan,    nan,    nan],\n",
       "        [   nan,    nan,    nan],\n",
       "        [   nan,    nan,    nan],\n",
       "        [   nan,    nan,    nan],\n",
       "        [   nan,    nan,    nan],\n",
       "        [   nan,    nan,    nan],\n",
       "        [   nan,    nan,    nan],\n",
       "        [   nan,    nan,    nan],\n",
       "        [   nan,    nan,    nan],\n",
       "        [   nan,    nan,    nan],\n",
       "        [   nan,    nan,    nan],\n",
       "        [   nan,    nan,    nan],\n",
       "        [   nan,    nan,    nan],\n",
       "        [   nan,    nan,    nan],\n",
       "        [   nan,    nan,    nan],\n",
       "        [   nan,    nan,    nan],\n",
       "        [   nan,    nan,    nan],\n",
       "        [   nan,    nan,    nan],\n",
       "        [   nan,    nan,    nan],\n",
       "        [   nan,    nan,    nan],\n",
       "        [   nan,    nan,    nan],\n",
       "        [   nan,    nan,    nan],\n",
       "        [   nan,    nan,    nan],\n",
       "        [   nan,    nan,    nan],\n",
       "        [   nan,    nan,    nan],\n",
       "        [   nan,    nan,    nan],\n",
       "        [   nan,    nan,    nan],\n",
       "        [   nan,    nan,    nan],\n",
       "        [   nan,    nan,    nan],\n",
       "        [   nan,    nan,    nan],\n",
       "        [   nan,    nan,    nan],\n",
       "        [   nan,    nan,    nan],\n",
       "        [   nan,    nan,    nan],\n",
       "        [   nan,    nan,    nan],\n",
       "        [   nan,    nan,    nan],\n",
       "        [   nan,    nan,    nan],\n",
       "        [   nan,    nan,    nan],\n",
       "        [   nan,    nan,    nan],\n",
       "        [   nan,    nan,    nan],\n",
       "        [   nan,    nan,    nan],\n",
       "        [   nan,    nan, 0.0502],\n",
       "        [   nan,    nan, 0.0642],\n",
       "        [   nan,    nan, 0.1537],\n",
       "        [   nan,    nan, 0.1726],\n",
       "        [   nan,    nan, 0.1849],\n",
       "        [   nan,    nan, 0.1894],\n",
       "        [   nan,    nan, 0.1768],\n",
       "        [   nan,    nan, 0.1692],\n",
       "        [   nan,    nan, 0.1738],\n",
       "        [   nan,    nan, 0.1567],\n",
       "        [   nan,    nan, 0.1418],\n",
       "        [   nan,    nan, 0.1301],\n",
       "        [0.0144,    nan, 0.1415],\n",
       "        [0.0272,    nan, 0.1401],\n",
       "        [0.0410,    nan, 0.1348],\n",
       "        [0.0580,    nan, 0.1276],\n",
       "        [0.0673,    nan, 0.1225],\n",
       "        [0.0842,    nan, 0.1177],\n",
       "        [0.0917,    nan, 0.1157],\n",
       "        [0.1103,    nan, 0.1163],\n",
       "        [0.1305,    nan, 0.1157],\n",
       "        [0.1449,    nan, 0.1192],\n",
       "        [0.1500,    nan, 0.1280],\n",
       "        [0.1529,    nan, 0.1391],\n",
       "        [0.1524, 0.0061, 0.1446],\n",
       "        [0.1539, 0.0135, 0.1411],\n",
       "        [0.1590, 0.0237, 0.1372],\n",
       "        [0.1616, 0.0329, 0.1361],\n",
       "        [0.1714, 0.0588, 0.1311],\n",
       "        [0.1720, 0.0659, 0.1247],\n",
       "        [0.2197, 0.0733, 0.0943],\n",
       "        [0.2379, 0.1032, 0.0889],\n",
       "        [0.2367, 0.1149, 0.0792],\n",
       "        [0.2502, 0.1356, 0.0637],\n",
       "        [0.2676, 0.1136, 0.0448],\n",
       "        [0.2734, 0.1136, 0.0319],\n",
       "        [0.2879, 0.1208,    nan],\n",
       "        [0.2807, 0.1496,    nan],\n",
       "        [0.2737, 0.1606,    nan],\n",
       "        [0.3020, 0.1512,    nan],\n",
       "        [0.2911, 0.1617,    nan],\n",
       "        [0.2744, 0.1989,    nan],\n",
       "        [0.2761, 0.1769,    nan],\n",
       "        [0.2766, 0.1833,    nan],\n",
       "        [0.2601, 0.1744,    nan],\n",
       "        [0.2376, 0.2137,    nan],\n",
       "        [0.2339, 0.2344,    nan],\n",
       "        [0.2322, 0.2396,    nan],\n",
       "        [0.1566, 0.3061,    nan],\n",
       "        [0.1567, 0.3163,    nan],\n",
       "        [0.1394, 0.2730,    nan],\n",
       "        [0.1154, 0.2624,    nan],\n",
       "        [0.1250, 0.2538,    nan],\n",
       "        [0.1227, 0.2118,    nan],\n",
       "        [0.1187, 0.1838,    nan],\n",
       "        [0.1162, 0.1715,    nan],\n",
       "        [0.1136, 0.2159,    nan],\n",
       "        [0.1107, 0.2457,    nan],\n",
       "        [0.0984, 0.2381,    nan],\n",
       "        [0.0878, 0.2583,    nan],\n",
       "        [0.0779, 0.2440,    nan],\n",
       "        [0.0705, 0.2378,    nan],\n",
       "        [   nan,    nan,    nan],\n",
       "        [   nan,    nan,    nan],\n",
       "        [   nan,    nan,    nan],\n",
       "        [   nan,    nan,    nan],\n",
       "        [   nan,    nan,    nan],\n",
       "        [   nan,    nan,    nan],\n",
       "        [   nan,    nan,    nan],\n",
       "        [   nan,    nan,    nan],\n",
       "        [   nan,    nan,    nan],\n",
       "        [   nan,    nan,    nan],\n",
       "        [   nan,    nan,    nan],\n",
       "        [   nan,    nan,    nan],\n",
       "        [   nan,    nan,    nan],\n",
       "        [   nan,    nan,    nan],\n",
       "        [   nan,    nan,    nan],\n",
       "        [   nan,    nan,    nan],\n",
       "        [   nan,    nan,    nan],\n",
       "        [   nan,    nan,    nan],\n",
       "        [   nan,    nan,    nan],\n",
       "        [   nan,    nan,    nan],\n",
       "        [   nan,    nan,    nan]], device='cuda:0')\n",
       "MetaData\n",
       "\taffine: tensor([[1., 0., 0., 0.],\n",
       "        [0., 1., 0., 0.],\n",
       "        [0., 0., 1., 0.],\n",
       "        [0., 0., 0., 1.]], device='cuda:0', dtype=torch.float64)\n",
       "\n",
       "Applied operations\n",
       "[]\n",
       "Is batch?: False"
      ]
     },
     "execution_count": 74,
     "metadata": {},
     "output_type": "execute_result"
    }
   ],
   "source": [
    "val_outputs0 = [post_pred(i) for i in val_outputs]\n",
    "val_outputs0 = torch.stack(val_outputs0)\n",
    "# metric is slice level put (n, c, h, w, d) to (n, d, c, h, w) to (n*d, c, h, w)\n",
    "val_outputs0 = val_outputs0.permute([0, 4, 1, 2, 3]).flatten(0, 1)\n",
    "val_masks = val_labels.permute([0, 4, 1, 2, 3]).flatten(0, 1)\n",
    "\n",
    "hausdorff_metric(y_pred=val_outputs0, y=val_masks)\n",
    "dice_metric(y_pred=val_outputs0, y=val_masks)\n",
    "\n",
    "del val_outputs0, val_inputs, val_masks, batch\n",
    "\n",
    "dice_score = dice_metric.aggregate().item()\n",
    "hausdorff_score = hausdorff_metric.aggregate().item()\n",
    "dice_metric.reset()\n",
    "hausdorff_metric.reset()"
   ]
  },
  {
   "cell_type": "code",
   "execution_count": 75,
   "id": "a918abee-510c-4a27-81d7-3cbc457c5659",
   "metadata": {},
   "outputs": [
    {
     "data": {
      "text/plain": [
       "0.1521187573671341"
      ]
     },
     "execution_count": 75,
     "metadata": {},
     "output_type": "execute_result"
    }
   ],
   "source": [
    "dice_score"
   ]
  },
  {
   "cell_type": "code",
   "execution_count": 76,
   "id": "653c6410-69d1-47ba-8371-c37ffb736ebb",
   "metadata": {},
   "outputs": [
    {
     "data": {
      "text/plain": [
       "0.4692648565198055"
      ]
     },
     "execution_count": 76,
     "metadata": {},
     "output_type": "execute_result"
    }
   ],
   "source": [
    "hausdorff_score"
   ]
  },
  {
   "cell_type": "code",
   "execution_count": null,
   "id": "54312911-9d3c-44ab-ba9b-09b46a68893b",
   "metadata": {},
   "outputs": [],
   "source": []
  },
  {
   "cell_type": "code",
   "execution_count": null,
   "id": "65884874-9f40-4afb-8e9c-fa670b87eab9",
   "metadata": {},
   "outputs": [],
   "source": []
  },
  {
   "cell_type": "code",
   "execution_count": null,
   "id": "a3699b9f-cda4-4f2b-9daa-e69159859c9d",
   "metadata": {},
   "outputs": [],
   "source": []
  },
  {
   "cell_type": "code",
   "execution_count": null,
   "id": "f2c1dc0d-1da2-4007-aaa5-9e7c77aaf1c4",
   "metadata": {},
   "outputs": [],
   "source": []
  },
  {
   "cell_type": "code",
   "execution_count": null,
   "id": "13aaae2f-c9a4-49cc-ac0a-a69b38967a13",
   "metadata": {},
   "outputs": [],
   "source": []
  },
  {
   "cell_type": "code",
   "execution_count": null,
   "id": "e35da5f3-96d3-49cf-8925-0091da98218f",
   "metadata": {},
   "outputs": [],
   "source": []
  },
  {
   "cell_type": "code",
   "execution_count": null,
   "id": "18b1cce8-646d-4c3d-8488-98e013209923",
   "metadata": {},
   "outputs": [],
   "source": []
  },
  {
   "cell_type": "code",
   "execution_count": null,
   "id": "726941a9-d6fe-411a-8df1-090e59f582ad",
   "metadata": {},
   "outputs": [],
   "source": []
  },
  {
   "cell_type": "code",
   "execution_count": null,
   "id": "91f65a11-621e-42af-bfff-f776e386a0b9",
   "metadata": {},
   "outputs": [],
   "source": []
  },
  {
   "cell_type": "code",
   "execution_count": null,
   "id": "f3ce89ec-6b42-4451-beeb-495fe2388641",
   "metadata": {},
   "outputs": [],
   "source": []
  },
  {
   "cell_type": "code",
   "execution_count": null,
   "id": "225e73ff-a9cc-475f-a995-283cfdc1a741",
   "metadata": {},
   "outputs": [],
   "source": []
  },
  {
   "cell_type": "code",
   "execution_count": null,
   "id": "bc9b54ca-0101-48d0-baf6-148c0bd3d996",
   "metadata": {},
   "outputs": [],
   "source": []
  },
  {
   "cell_type": "code",
   "execution_count": null,
   "id": "b4280c8a-f7e2-48f3-99d5-c63c0d0c8076",
   "metadata": {},
   "outputs": [],
   "source": []
  },
  {
   "cell_type": "code",
   "execution_count": null,
   "id": "814ea0ff-30c3-41be-b2dc-674692ddcc76",
   "metadata": {},
   "outputs": [],
   "source": []
  },
  {
   "cell_type": "code",
   "execution_count": null,
   "id": "28ee4fcb-7745-44f5-8642-a116101b62b3",
   "metadata": {},
   "outputs": [],
   "source": []
  },
  {
   "cell_type": "code",
   "execution_count": null,
   "id": "4c32dcb9-5a3d-450a-a517-eb706fac448b",
   "metadata": {},
   "outputs": [],
   "source": []
  },
  {
   "cell_type": "code",
   "execution_count": null,
   "id": "dafb2fb4-fef5-4b12-90d9-51c8c61c9b43",
   "metadata": {},
   "outputs": [],
   "source": []
  },
  {
   "cell_type": "code",
   "execution_count": null,
   "id": "7edf6762-f149-4969-8edb-fb38f8c44548",
   "metadata": {},
   "outputs": [],
   "source": []
  },
  {
   "cell_type": "code",
   "execution_count": 31,
   "id": "481ed03f-eec4-48c4-8af2-3b50f5613dd6",
   "metadata": {},
   "outputs": [
    {
     "name": "stderr",
     "output_type": "stream",
     "text": [
      "Val:   epoch #2:   0% 0/21 [00:00<?, ?it/s]\n"
     ]
    },
    {
     "ename": "NameError",
     "evalue": "name 'post_label' is not defined",
     "output_type": "error",
     "traceback": [
      "\u001b[0;31m---------------------------------------------------------------------------\u001b[0m",
      "\u001b[0;31mNameError\u001b[0m                                 Traceback (most recent call last)",
      "Input \u001b[0;32mIn [31]\u001b[0m, in \u001b[0;36m<cell line: 1>\u001b[0;34m()\u001b[0m\n\u001b[0;32m----> 1\u001b[0m mean_dice_val \u001b[38;5;241m=\u001b[39m \u001b[43mvalidate\u001b[49m\u001b[43m(\u001b[49m\u001b[43mmodel\u001b[49m\u001b[43m,\u001b[49m\u001b[43m \u001b[49m\u001b[43mval_loader\u001b[49m\u001b[43m,\u001b[49m\u001b[43m \u001b[49m\u001b[43mdevice\u001b[49m\u001b[43m,\u001b[49m\u001b[43m \u001b[49m\u001b[38;5;241;43m1\u001b[39;49m\u001b[43m,\u001b[49m\u001b[43m \u001b[49m\u001b[43mimg_size\u001b[49m\u001b[43m \u001b[49m\u001b[38;5;241;43m=\u001b[39;49m\u001b[43m \u001b[49m\u001b[43m(\u001b[49m\u001b[38;5;241;43m384\u001b[39;49m\u001b[43m,\u001b[49m\u001b[43m \u001b[49m\u001b[38;5;241;43m384\u001b[39;49m\u001b[43m,\u001b[49m\u001b[43m \u001b[49m\u001b[38;5;241;43m144\u001b[39;49m\u001b[43m)\u001b[49m\u001b[43m)\u001b[49m\n",
      "Input \u001b[0;32mIn [30]\u001b[0m, in \u001b[0;36mvalidate\u001b[0;34m(model, val_loader, device, epoch, img_size)\u001b[0m\n\u001b[1;32m     13\u001b[0m val_outputs \u001b[38;5;241m=\u001b[39m sliding_window_inference(val_inputs, img_size, \u001b[38;5;241m4\u001b[39m, model)\n\u001b[1;32m     14\u001b[0m val_labels_list \u001b[38;5;241m=\u001b[39m decollate_batch(val_labels)\n\u001b[0;32m---> 15\u001b[0m val_labels_convert \u001b[38;5;241m=\u001b[39m [\n\u001b[1;32m     16\u001b[0m     post_label(val_label_tensor) \u001b[38;5;28;01mfor\u001b[39;00m val_label_tensor \u001b[38;5;129;01min\u001b[39;00m val_labels_list\n\u001b[1;32m     17\u001b[0m ]\n\u001b[1;32m     18\u001b[0m val_outputs_list \u001b[38;5;241m=\u001b[39m decollate_batch(val_outputs)\n\u001b[1;32m     19\u001b[0m val_output_convert \u001b[38;5;241m=\u001b[39m [\n\u001b[1;32m     20\u001b[0m     post_pred(val_pred_tensor) \u001b[38;5;28;01mfor\u001b[39;00m val_pred_tensor \u001b[38;5;129;01min\u001b[39;00m val_outputs_list\n\u001b[1;32m     21\u001b[0m ]\n",
      "Input \u001b[0;32mIn [30]\u001b[0m, in \u001b[0;36m<listcomp>\u001b[0;34m(.0)\u001b[0m\n\u001b[1;32m     13\u001b[0m val_outputs \u001b[38;5;241m=\u001b[39m sliding_window_inference(val_inputs, img_size, \u001b[38;5;241m4\u001b[39m, model)\n\u001b[1;32m     14\u001b[0m val_labels_list \u001b[38;5;241m=\u001b[39m decollate_batch(val_labels)\n\u001b[1;32m     15\u001b[0m val_labels_convert \u001b[38;5;241m=\u001b[39m [\n\u001b[0;32m---> 16\u001b[0m     \u001b[43mpost_label\u001b[49m(val_label_tensor) \u001b[38;5;28;01mfor\u001b[39;00m val_label_tensor \u001b[38;5;129;01min\u001b[39;00m val_labels_list\n\u001b[1;32m     17\u001b[0m ]\n\u001b[1;32m     18\u001b[0m val_outputs_list \u001b[38;5;241m=\u001b[39m decollate_batch(val_outputs)\n\u001b[1;32m     19\u001b[0m val_output_convert \u001b[38;5;241m=\u001b[39m [\n\u001b[1;32m     20\u001b[0m     post_pred(val_pred_tensor) \u001b[38;5;28;01mfor\u001b[39;00m val_pred_tensor \u001b[38;5;129;01min\u001b[39;00m val_outputs_list\n\u001b[1;32m     21\u001b[0m ]\n",
      "\u001b[0;31mNameError\u001b[0m: name 'post_label' is not defined"
     ]
    }
   ],
   "source": [
    "mean_dice_val = validate(model, val_loader, device, 1, img_size=(384, 384, 144))"
   ]
  },
  {
   "cell_type": "code",
   "execution_count": 20,
   "id": "0c87e410-8aee-4fa6-a5ce-a25639071348",
   "metadata": {},
   "outputs": [],
   "source": [
    "x = x.detach().cpu().numpy()"
   ]
  },
  {
   "cell_type": "code",
   "execution_count": 19,
   "id": "14499e38-0e4f-4779-aefe-561bfa03e51a",
   "metadata": {},
   "outputs": [],
   "source": [
    "# train_bar = tqdm(\n",
    "#     enumerate(train_loader),\n",
    "#     total=len(train_loader),\n",
    "#     desc=f\"Train: step #{step + 1}\",\n",
    "#     dynamic_ncols=True,\n",
    "# )\n",
    "# for step, batch in train_bar:\n",
    "#     x, y = batch[\"image\"], batch[\"label\"]\n",
    "#     print(x.max(), y.max())"
   ]
  },
  {
   "cell_type": "code",
   "execution_count": 25,
   "id": "22b2d1a6-b4d2-4302-85fb-fb4bfbce8f8f",
   "metadata": {},
   "outputs": [
    {
     "data": {
      "text/plain": [
       "[0.0, 0.0]"
      ]
     },
     "execution_count": 25,
     "metadata": {},
     "output_type": "execute_result"
    }
   ],
   "source": [
    "[a.min() for a in x]"
   ]
  },
  {
   "cell_type": "code",
   "execution_count": 21,
   "id": "5e934940-dd1c-4e96-be8b-9fcc638b3d43",
   "metadata": {},
   "outputs": [
    {
     "data": {
      "text/plain": [
       "tensor(0.9713, device='cuda:0', grad_fn=<MeanBackward0>)"
      ]
     },
     "execution_count": 21,
     "metadata": {},
     "output_type": "execute_result"
    }
   ],
   "source": [
    "loss_function(model(batch[\"image\"].to(device)), y)"
   ]
  },
  {
   "cell_type": "code",
   "execution_count": 29,
   "id": "1855a859-0b93-4173-b9c5-f3fb371398c0",
   "metadata": {},
   "outputs": [
    {
     "data": {
      "text/plain": [
       "torch.Size([384, 384, 144])"
      ]
     },
     "execution_count": 29,
     "metadata": {},
     "output_type": "execute_result"
    }
   ],
   "source": [
    "batch[\"image\"].shape[2:]."
   ]
  },
  {
   "cell_type": "code",
   "execution_count": null,
   "id": "c7fe0e58-8d81-43eb-80d2-d515c283e155",
   "metadata": {},
   "outputs": [],
   "source": [
    "def train(global_step, train_loader, dice_val_best, global_step_best):\n",
    "    model.train()\n",
    "    epoch_loss = 0\n",
    "    step = 0\n",
    "    epoch_iterator = tqdm(\n",
    "        train_loader, desc=\"Training (X / X Steps) (loss=X.X)\", dynamic_ncols=True\n",
    "    )\n",
    "    for step, batch in enumerate(epoch_iterator):\n",
    "        step += 1\n",
    "        x, y = (batch[\"image\"].cuda(), batch[\"label\"].cuda())\n",
    "        logit_map = model(x)\n",
    "        loss = loss_function(logit_map, y)\n",
    "        loss.backward()\n",
    "        epoch_loss += loss.item()\n",
    "        optimizer.step()\n",
    "        optimizer.zero_grad()\n",
    "        epoch_iterator.set_description(\n",
    "            \"Training (%d / %d Steps) (loss=%2.5f)\"\n",
    "            % (global_step, max_iterations, loss)\n",
    "        )\n",
    "        if (\n",
    "            global_step % eval_num == 0 and global_step != 0\n",
    "        ) or global_step == max_iterations:\n",
    "            epoch_iterator_val = tqdm(\n",
    "                val_loader, desc=\"Validate (X / X Steps) (dice=X.X)\", dynamic_ncols=True\n",
    "            )\n",
    "            dice_val = validation(epoch_iterator_val)\n",
    "            epoch_loss /= step\n",
    "            epoch_loss_values.append(epoch_loss)\n",
    "            metric_values.append(dice_val)\n",
    "            if dice_val > dice_val_best:\n",
    "                dice_val_best = dice_val\n",
    "                global_step_best = global_step\n",
    "                torch.save(\n",
    "                    model.state_dict(), os.path.join(root_dir, \"best_metric_model.pth\")\n",
    "                )\n",
    "                print(\n",
    "                    \"Model Was Saved ! Current Best Avg. Dice: {} Current Avg. Dice: {}\".format(\n",
    "                        dice_val_best, dice_val\n",
    "                    )\n",
    "                )\n",
    "            else:\n",
    "                print(\n",
    "                    \"Model Was Not Saved ! Current Best Avg. Dice: {} Current Avg. Dice: {}\".format(\n",
    "                        dice_val_best, dice_val\n",
    "                    )\n",
    "                )\n",
    "        global_step += 1\n",
    "    return global_step, dice_val_best, global_step_best"
   ]
  }
 ],
 "metadata": {
  "kernelspec": {
   "display_name": "Python 3 (ipykernel)",
   "language": "python",
   "name": "python3"
  },
  "language_info": {
   "codemirror_mode": {
    "name": "ipython",
    "version": 3
   },
   "file_extension": ".py",
   "mimetype": "text/x-python",
   "name": "python",
   "nbconvert_exporter": "python",
   "pygments_lexer": "ipython3",
   "version": "3.8.10"
  }
 },
 "nbformat": 4,
 "nbformat_minor": 5
}
